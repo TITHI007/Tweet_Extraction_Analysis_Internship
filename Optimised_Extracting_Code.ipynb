{
  "nbformat": 4,
  "nbformat_minor": 0,
  "metadata": {
    "colab": {
      "name": "Optimised_Final_Code.ipynb",
      "provenance": [],
      "collapsed_sections": [],
      "include_colab_link": true
    },
    "kernelspec": {
      "display_name": "Python 3",
      "name": "python3"
    },
    "language_info": {
      "name": "python"
    }
  },
  "cells": [
    {
      "cell_type": "markdown",
      "metadata": {
        "id": "view-in-github",
        "colab_type": "text"
      },
      "source": [
        "<a href=\"https://colab.research.google.com/github/TITHI007/Tweet_Extraction_Analysis_Internship/blob/main/Optimised_Extracting_Code.ipynb\" target=\"_parent\"><img src=\"https://colab.research.google.com/assets/colab-badge.svg\" alt=\"Open In Colab\"/></a>"
      ]
    },
    {
      "cell_type": "code",
      "metadata": {
        "id": "MBwqls_6wNpG"
      },
      "source": [
        "import datetime\n",
        "import time\n",
        "import sys\n",
        "import requests\n",
        "from os import path\n",
        "import json"
      ],
      "execution_count": 100,
      "outputs": []
    },
    {
      "cell_type": "code",
      "metadata": {
        "id": "yjgbsLIMwXex"
      },
      "source": [
        "sys.setrecursionlimit(3500)"
      ],
      "execution_count": 101,
      "outputs": []
    },
    {
      "cell_type": "code",
      "metadata": {
        "id": "p2ef-gb1xTEg"
      },
      "source": [
        "_bearerToken = ''\n",
        "bearer_token = _bearerToken"
      ],
      "execution_count": 123,
      "outputs": []
    },
    {
      "cell_type": "code",
      "metadata": {
        "id": "MV4kPB2PxmfQ"
      },
      "source": [
        "def create_headers(bearer_token):\n",
        "    headers = {\"Authorization\": \"Bearer {}\".format(bearer_token)}\n",
        "    return headers"
      ],
      "execution_count": 103,
      "outputs": []
    },
    {
      "cell_type": "code",
      "metadata": {
        "id": "Vc6OfqPIxotO"
      },
      "source": [
        "def connect_to_endpoint(url, headers, params):\n",
        "    response = requests.request(\"GET\", url, headers=headers, params=params)\n",
        "    print(response.status_code)\n",
        "    if response.status_code != 200:\n",
        "        raise Exception(response.status_code, response.text)\n",
        "    return response.json()"
      ],
      "execution_count": 104,
      "outputs": []
    },
    {
      "cell_type": "code",
      "metadata": {
        "id": "-F6i5m0fgyhc"
      },
      "source": [
        "def list_to_Json(Final_List,File_Name):\n",
        "  with open('{}.json'.format(File_Name), 'a', encoding='utf8') as file:\n",
        "      json.dump(Final_List, file, sort_keys=False, indent=4)\n",
        "\n",
        "\n"
      ],
      "execution_count": 105,
      "outputs": []
    },
    {
      "cell_type": "code",
      "metadata": {
        "id": "OscpWp69xrct"
      },
      "source": [
        "start = datetime.datetime.strptime(\"2020-04-01T00:00:00Z\", \"%Y-%m-%dT%H:%M:%SZ\").isoformat() + 'Z'\n",
        "end = datetime.datetime.strptime(\"2020-04-05T00:00:00Z\", \"%Y-%m-%dT%H:%M:%SZ\").isoformat() + 'Z'\n",
        "t=True\n",
        "search_url = \"https://api.twitter.com/2/tweets/search/all\""
      ],
      "execution_count": 106,
      "outputs": []
    },
    {
      "cell_type": "code",
      "metadata": {
        "colab": {
          "base_uri": "https://localhost:8080/"
        },
        "id": "-vZoPSLaoTNI",
        "outputId": "465b94ac-0830-4d4e-f877-dc3436fefc31"
      },
      "source": [
        "if path.isfile('#corona.json') is True:\n",
        "          with open('#corona.json', 'r', encoding='utf8') as js_file:\n",
        "            next = json.load(js_file)\n",
        "            if 'next_token' in next[-1]['meta']:\n",
        "          # next=next.append(json_response['meta']['next_token'])\n",
        "              next_token = next[-1]['meta']['next_token']\n",
        "else:\n",
        "  next_token=None\n",
        "\n",
        "print(next_token)"
      ],
      "execution_count": 107,
      "outputs": [
        {
          "output_type": "stream",
          "name": "stdout",
          "text": [
            "None\n"
          ]
        }
      ]
    },
    {
      "cell_type": "code",
      "metadata": {
        "id": "k6kWJItexubL"
      },
      "source": [
        "conversation_list=[]\n",
        "Main_Tweets=[]\n",
        "# next=[]"
      ],
      "execution_count": 108,
      "outputs": []
    },
    {
      "cell_type": "code",
      "metadata": {
        "id": "7aZbiaXwQqHf"
      },
      "source": [
        " headers = create_headers(bearer_token)"
      ],
      "execution_count": 109,
      "outputs": []
    },
    {
      "cell_type": "code",
      "metadata": {
        "id": "QGOGSmlHx0Uq",
        "colab": {
          "base_uri": "https://localhost:8080/"
        },
        "outputId": "ed90384e-bb28-49fc-9985-2f43760f698d"
      },
      "source": [
        "next_token=None\n",
        "while t:\n",
        "    query_params = {'query': '#corona lang:de',\n",
        "                    # 'tweet.fields':['id','author_id','text','conversation_id','created_at','lang','context_annotations',\n",
        "                    #                 'entities','geo','in_reply_to_user_id','non_public_metrics','organic_metrics',\n",
        "                    #                 'possibly_sensitive','promoted_metrics','public_metrics','referenced_tweets',\n",
        "                    #                 'reply_settings','source'],\n",
        "                    'tweet.fields': \"attachments,author_id,context_annotations,conversation_id,created_at,entities,geo,id,in_reply_to_user_id,lang,possibly_sensitive,public_metrics,referenced_tweets,reply_settings,source,text,withheld\",\n",
        "                    'expansions': \"attachments.poll_ids,attachments.media_keys,author_id,geo.place_id,in_reply_to_user_id,referenced_tweets.id,entities.mentions.username,referenced_tweets.id.author_id\",\n",
        "                    'start_time': start, 'end_time': end, 'max_results': 10, 'next_token': next_token}\n",
        "    \n",
        "    try:\n",
        "        json_response = connect_to_endpoint(search_url, headers, query_params)\n",
        "        if 'data' in json_response:\n",
        "          for i in json_response['data']:\n",
        "              conversation_list.append(i['conversation_id'])  \n",
        "    except:\n",
        "        continue\n",
        "    \n",
        "\n",
        "    \n",
        "    tweet=[]\n",
        "    if path.isfile('#corona_Main_Tweet.json') is False:   \n",
        "          with open('#corona_Main_Tweet.json', 'a', encoding='utf8') as js_file:\n",
        "            tweet.append(json_response)\n",
        "            json.dump(tweet, js_file, sort_keys=False, indent=4)\n",
        "    else:\n",
        "          with open('#corona_Main_Tweet.json') as js_file:\n",
        "            tweet=json.load(js_file)\n",
        "            tweet.append(json_response)\n",
        "          with open('#corona_Main_Tweet.json', 'w', encoding='utf8') as js_file:\n",
        "              json.dump(tweet, js_file, sort_keys=False, indent=4)\n",
        "\n",
        "\n",
        "      \n",
        "    Main_Tweets.append(json_response)\n",
        "    if 'next_token' in json_response['meta']:\n",
        "          # next=next.append(json_response['meta']['next_token'])\n",
        "          next_token = json_response['meta']['next_token']\n",
        "\n",
        "    else:\n",
        "          t=False\n",
        "          break\n",
        "\n",
        "    if len(conversation_list)>=20:\n",
        "        break\n",
        "    time.sleep(5)"
      ],
      "execution_count": 110,
      "outputs": [
        {
          "output_type": "stream",
          "name": "stdout",
          "text": [
            "200\n",
            "200\n"
          ]
        }
      ]
    },
    {
      "cell_type": "code",
      "metadata": {
        "id": "rNmvul7sR4XH",
        "colab": {
          "base_uri": "https://localhost:8080/"
        },
        "outputId": "10cfebb5-c221-47b8-9518-77c71f9632ef"
      },
      "source": [
        "len(conversation_list)"
      ],
      "execution_count": 111,
      "outputs": [
        {
          "output_type": "execute_result",
          "data": {
            "text/plain": [
              "20"
            ]
          },
          "metadata": {},
          "execution_count": 111
        }
      ]
    },
    {
      "cell_type": "code",
      "metadata": {
        "colab": {
          "base_uri": "https://localhost:8080/"
        },
        "id": "dJu3eFxqLFuc",
        "outputId": "844e4a8c-5ea7-4fc5-d6c5-aa2cfe764680"
      },
      "source": [
        "print(type(Main_Tweets))"
      ],
      "execution_count": 112,
      "outputs": [
        {
          "output_type": "stream",
          "name": "stdout",
          "text": [
            "<class 'list'>\n"
          ]
        }
      ]
    },
    {
      "cell_type": "code",
      "metadata": {
        "id": "3wusHMc2yPyB"
      },
      "source": [
        "def create_url(conversationid):\n",
        "    # Replace with user ID below\n",
        "    return \"https://api.twitter.com/2/tweets/search/all?query=conversation_id:{}\".format(conversationid)"
      ],
      "execution_count": 113,
      "outputs": []
    },
    {
      "cell_type": "code",
      "metadata": {
        "id": "aRTyFJ7C0AA2"
      },
      "source": [
        "def get_params():    \n",
        "    # Tweet fields are adjustable.\n",
        "    # Options include:\n",
        "    # attachments, author_id, context_annotations,\n",
        "    # conversation_id, created_at, entities, geo, id,\n",
        "    # in_reply_to_user_id, lang, non_public_metrics, organic_metrics,\n",
        "    # possibly_sensitive, promoted_metrics, public_metrics, referenced_tweets,\n",
        "    # source, text, and withheld\n",
        "    # query_params={'tweet.fields':\"attachments,author_id,context_annotations,conversation_id,created_at,entities,geo,id,in_reply_to_user_id,lang,possibly_sensitive,public_metrics,referenced_tweets,reply_settings,source,text,withheld\",\n",
        "    query_params={'tweet.fields':\"attachments,author_id,context_annotations,conversation_id,created_at,entities,geo,id,in_reply_to_user_id,lang,possibly_sensitive,public_metrics,referenced_tweets,reply_settings,source,text,withheld\",\n",
        "                  'expansions':\"attachments.poll_ids,attachments.media_keys,author_id,geo.place_id,in_reply_to_user_id,referenced_tweets.id,entities.mentions.username,referenced_tweets.id.author_id\",\n",
        "                  'start_time':start,'end_time':end,'max_results':10,'next_token':next_token}\n",
        "    return query_params"
      ],
      "execution_count": 114,
      "outputs": []
    },
    {
      "cell_type": "code",
      "metadata": {
        "id": "pJYJVwla1OGt"
      },
      "source": [
        "Conversation_Tweet=[]\n",
        "next_token=None"
      ],
      "execution_count": 115,
      "outputs": []
    },
    {
      "cell_type": "code",
      "metadata": {
        "colab": {
          "base_uri": "https://localhost:8080/"
        },
        "id": "3i7JRCMlMYkq",
        "outputId": "977f0922-b426-4cf6-a05d-c2f22b0519b7"
      },
      "source": [
        "n=0\n",
        "for conv_id in conversation_list:\n",
        "    conversationid=conv_id\n",
        "    url = create_url(conversationid)\n",
        "    t=True\n",
        "    print(\"conversationid:{}\".format(n))\n",
        "    while t:\n",
        "        params = get_params()\n",
        "        try:\n",
        "          json_response = connect_to_endpoint(url, headers, params)\n",
        "        except:\n",
        "          time.sleep(5)\n",
        "          continue\n",
        "        Conversation_Tweet.append(json_response)\n",
        "        if 'next_token' in json_response['meta']:\n",
        "            next_token = json_response.get('meta').get('next_token')\n",
        "        else:\n",
        "          t=False\n",
        "          break       \n",
        "    n=n+1    "
      ],
      "execution_count": 116,
      "outputs": [
        {
          "output_type": "stream",
          "name": "stdout",
          "text": [
            "conversationid:0\n",
            "200\n",
            "conversationid:1\n",
            "429\n",
            "200\n",
            "conversationid:2\n",
            "429\n",
            "200\n",
            "conversationid:3\n",
            "429\n",
            "200\n",
            "conversationid:4\n",
            "429\n",
            "200\n",
            "conversationid:5\n",
            "429\n",
            "200\n",
            "conversationid:6\n",
            "429\n",
            "200\n",
            "conversationid:7\n",
            "429\n",
            "200\n",
            "conversationid:8\n",
            "429\n",
            "200\n",
            "conversationid:9\n",
            "429\n",
            "200\n",
            "conversationid:10\n",
            "429\n",
            "200\n",
            "conversationid:11\n",
            "429\n",
            "200\n",
            "conversationid:12\n",
            "429\n",
            "200\n",
            "conversationid:13\n",
            "429\n",
            "200\n",
            "conversationid:14\n",
            "429\n",
            "200\n",
            "conversationid:15\n",
            "429\n",
            "200\n",
            "conversationid:16\n",
            "429\n",
            "200\n",
            "conversationid:17\n",
            "429\n",
            "200\n",
            "conversationid:18\n",
            "429\n",
            "200\n",
            "conversationid:19\n",
            "429\n",
            "200\n"
          ]
        }
      ]
    },
    {
      "cell_type": "code",
      "metadata": {
        "id": "hx0HNe_Pi4ag"
      },
      "source": [
        "list_to_Json(Conversation_Tweet,\"#corona_Conversation_Tweet\")"
      ],
      "execution_count": 117,
      "outputs": []
    },
    {
      "cell_type": "code",
      "metadata": {
        "id": "y249FzDDAZD6",
        "colab": {
          "base_uri": "https://localhost:8080/"
        },
        "outputId": "2e1858db-22a9-4915-809c-266c0a4a0640"
      },
      "source": [
        "print(len(Conversation_Tweet))"
      ],
      "execution_count": 118,
      "outputs": [
        {
          "output_type": "stream",
          "name": "stdout",
          "text": [
            "20\n"
          ]
        }
      ]
    },
    {
      "cell_type": "code",
      "metadata": {
        "id": "n3_vNLGLH011"
      },
      "source": [
        "# ['referenced_tweets'][0]['id'] is the id of the upperlevel tweet \n",
        "# output[0]['data'] id of lower level tweet\n",
        " \n",
        "def replies(Main_id):\n",
        "    l = []\n",
        "    for inStance in Conversation_Tweet:\n",
        "       if 'data' in inStance: \n",
        "          for values in inStance['data']:\n",
        "              if (values['referenced_tweets'][0]['id']==Main_id):\n",
        "                  # u= {\"author_id\":values['author_id'],\"conversation_id\":values['conversation_id'],\"created_at\":values['created_at'],\"id\":values['id'],\"lang\":values['lang'],\"possibly_sensitive\":values['possibly_sensitive'],\"public_metrics\":values['public_metrics'],\"in_reply_to_status_id\":values['id'],\"referenced_tweets\":values['referenced_tweets'],\"text\":values['text'],\"reply_settings\":values['reply_settings'],\"source\":values['source']}\n",
        "                  if values['public_metrics']['reply_count']==0:\n",
        "                    v = {\"author_id\":values['author_id'],\"conversation_id\":values['conversation_id'],\"created_at\":values['created_at'],\"id\":values['id'],\"lang\":values['lang'],\"possibly_sensitive\":values['possibly_sensitive'],\"public_metrics\":values['public_metrics'],\"in_reply_to_status_id\":values['id'],\"referenced_tweets\":values['referenced_tweets'],\"reply_settings\":values['reply_settings'],\"source\":values['source'],\"text\":values['text']}\n",
        "                    l.append(v)\n",
        "                  else:\n",
        "                    v = {\"author_id\":values['author_id'],\"conversation_id\":values['conversation_id'],\"created_at\":values['created_at'],\"id\":values['id'],\"lang\":values['lang'],\"possibly_sensitive\":values['possibly_sensitive'],\"public_metrics\":values['public_metrics'],\"in_reply_to_status_id\":values['id'],\"referenced_tweets\":values['referenced_tweets'],\"reply_settings\":values['reply_settings'],\"source\":values['source'],\"text\":values['text'],\"replies\":replies(values['id'])}\n",
        "                    l.append(v)\n",
        "                    \n",
        "    return l"
      ],
      "execution_count": 119,
      "outputs": []
    },
    {
      "cell_type": "code",
      "metadata": {
        "id": "K0HmM3fZ6KJ_"
      },
      "source": [
        "Tweet_replies=[]"
      ],
      "execution_count": 120,
      "outputs": []
    },
    {
      "cell_type": "code",
      "metadata": {
        "id": "JpbQhPc46gW9"
      },
      "source": [
        "for inStance in Main_Tweets:\n",
        "  # print(inStance)\n",
        "  if 'data' in inStance:\n",
        "          for data in inStance['data']:\n",
        "              # print(data['possibly_sensitive'])\n",
        "              Tweet_replies.append({\"author_id\":data['author_id'],\"conversation_id\":data['conversation_id'],\"created_at\":data['created_at'],\"id\":data['id'],\"lang\":data['lang'],\"possibly_sensitive\":data['possibly_sensitive'],\"public_metrics\":data['public_metrics'],\"text\":data['text'],\"replies\":replies(data['id']),\"source\":data['source']})"
      ],
      "execution_count": 121,
      "outputs": []
    },
    {
      "cell_type": "code",
      "metadata": {
        "id": "4vXzIkuS1-P2"
      },
      "source": [
        " list_to_Json(Tweet_replies,\"#corona\")"
      ],
      "execution_count": 122,
      "outputs": []
    },
    {
      "cell_type": "code",
      "metadata": {
        "id": "yuCnfncYvONw"
      },
      "source": [
        ""
      ],
      "execution_count": null,
      "outputs": []
    }
  ]
}